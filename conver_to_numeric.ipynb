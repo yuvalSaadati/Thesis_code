{
 "cells": [
  {
   "cell_type": "code",
   "execution_count": 1,
   "id": "09aaf783",
   "metadata": {},
   "outputs": [],
   "source": [
    "import pandas as pd\n",
    "\n",
    "# Load your data\n",
    "df = pd.read_excel('all ads clusters_data_full_tagging product desc.xlsx')  # replace with your actual file name\n",
    "\n",
    "# List of target columns\n",
    "columns_to_check = [\n",
    "    'Product Lineup', 'Feeling base', 'Brand Loyalty', 'Free Offers', 'Quality',\n",
    "    'Speed', 'User Friendliness', 'Social Identity', 'Product Description',\n",
    "    'Motive', 'Curiosity', 'concerns/problem', 'CTA'\n",
    "]\n",
    "\n",
    "# Create a dictionary to store the count results\n",
    "split_counts = {}\n",
    "\n",
    "# Count len(str(x).split(',')) for each column\n",
    "for col in columns_to_check:\n",
    "    split_counts[col] = df[col].apply(lambda x: len(str(x).split(',')) if pd.notnull(x) else 0)\n",
    "\n",
    "# Convert dictionary to DataFrame and add to original DataFrame\n",
    "for col in columns_to_check:\n",
    "    df[f'{col}'] = split_counts[col]\n",
    "\n",
    "# Count 'you' or 'yours' in the Text column (case-insensitive)\n",
    "df['you_yours'] = df['Text'].str.lower().str.count(r'\\byou\\b|\\byours\\b')\n",
    "\n",
    "# Display or save the modified DataFrame\n",
    "df.to_excel('all ads clusters_data_full_tagging_numeric.xlsx', index=False)\n"
   ]
  }
 ],
 "metadata": {
  "kernelspec": {
   "display_name": "myenv",
   "language": "python",
   "name": "python3"
  },
  "language_info": {
   "codemirror_mode": {
    "name": "ipython",
    "version": 3
   },
   "file_extension": ".py",
   "mimetype": "text/x-python",
   "name": "python",
   "nbconvert_exporter": "python",
   "pygments_lexer": "ipython3",
   "version": "3.9.21"
  }
 },
 "nbformat": 4,
 "nbformat_minor": 5
}
